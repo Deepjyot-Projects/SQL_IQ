{
  "nbformat": 4,
  "nbformat_minor": 0,
  "metadata": {
    "colab": {
      "provenance": [],
      "authorship_tag": "ABX9TyPcfI4f154iGpCBrqHxC8dx",
      "include_colab_link": true
    },
    "kernelspec": {
      "name": "python3",
      "display_name": "Python 3"
    },
    "language_info": {
      "name": "python"
    }
  },
  "cells": [
    {
      "cell_type": "markdown",
      "metadata": {
        "id": "view-in-github",
        "colab_type": "text"
      },
      "source": [
        "<a href=\"https://colab.research.google.com/github/Deepjyot-Projects/SQL_IQ/blob/main/Why_to_use_one_hot_encoding%3F.ipynb\" target=\"_parent\"><img src=\"https://colab.research.google.com/assets/colab-badge.svg\" alt=\"Open In Colab\"/></a>"
      ]
    },
    {
      "cell_type": "code",
      "execution_count": null,
      "metadata": {
        "id": "8CNkBRTTMne3"
      },
      "outputs": [],
      "source": []
    },
    {
      "cell_type": "code",
      "source": [
        "import matplotlib.pyplot as plt\n",
        "import seaborn as sns\n",
        "import pandas as pd\n",
        "import numpy as np\n",
        "from sklearn import model_selection,tree\n",
        "from sklearn.model_selection import train_test_split,KFold\n",
        "from sklearn.preprocessing import StandardScaler\n",
        "from sklearn.linear_model import LogisticRegression\n",
        "from sklearn.tree import DecisionTreeClassifier\n",
        "from sklearn.metrics import accuracy_score, classification_report, confusion_matrix, mean_squared_error,r2_score"
      ],
      "metadata": {
        "id": "NSm3iWlgNBkp"
      },
      "execution_count": 1,
      "outputs": []
    },
    {
      "cell_type": "code",
      "source": [
        "import pandas as pd\n",
        "from sklearn.model_selection import train_test_split\n",
        "from sklearn.preprocessing import StandardScaler\n",
        "from sklearn.linear_model import LogisticRegression\n",
        "from sklearn.metrics import accuracy_score, confusion_matrix, classification_report\n",
        "\n",
        "# Generate synthetic data (replace this with your actual data)\n",
        "data = {\n",
        "    'Contract_MonthlyCharges': [40, 80, 60, 100, 70, 90, 55, 75, 85, 65],\n",
        "    'Contract_Tenure': [12, 24, 36, 2, 48, 6, 24, 12, 18, 36],\n",
        "    'TotalCharges': [480, 1920, 2160, 200, 3360, 540, 1320, 900, 1530, 2340],\n",
        "    'Internet_Service': ['DSL', 'Fiber optic', 'DSL', 'No internet', 'Fiber optic',\n",
        "                         'No internet', 'DSL', 'DSL', 'Fiber optic', 'DSL'],\n",
        "    'Churn': [0, 1, 0, 1, 0, 1, 0, 0, 1, 0],  # 0 for no churn, 1 for churn\n",
        "}\n",
        "\n",
        "df = pd.DataFrame(data)\n",
        "\n",
        "print('initally the dataframe is: ',df)\n",
        "# Perform one-hot encoding for 'Internet_Service'\n",
        "df_encoded = pd.get_dummies(df, columns=['Internet_Service'], prefix=['Internet'])\n",
        "\n",
        "\n",
        "print('afterwards the dataframe is: \\n',df_encoded)\n",
        "# Split the data into features and target\n",
        "X = df_encoded.drop('Churn', axis=1)\n",
        "y = df_encoded['Churn']\n"
      ],
      "metadata": {
        "colab": {
          "base_uri": "https://localhost:8080/"
        },
        "id": "YaXL-RnJNWM0",
        "outputId": "62ad927c-dbd0-40c9-f7ff-336856045eea"
      },
      "execution_count": 6,
      "outputs": [
        {
          "output_type": "stream",
          "name": "stdout",
          "text": [
            "initally the dataframe is:     Contract_MonthlyCharges  Contract_Tenure  TotalCharges Internet_Service  \\\n",
            "0                       40               12           480              DSL   \n",
            "1                       80               24          1920      Fiber optic   \n",
            "2                       60               36          2160              DSL   \n",
            "3                      100                2           200      No internet   \n",
            "4                       70               48          3360      Fiber optic   \n",
            "5                       90                6           540      No internet   \n",
            "6                       55               24          1320              DSL   \n",
            "7                       75               12           900              DSL   \n",
            "8                       85               18          1530      Fiber optic   \n",
            "9                       65               36          2340              DSL   \n",
            "\n",
            "   Churn  \n",
            "0      0  \n",
            "1      1  \n",
            "2      0  \n",
            "3      1  \n",
            "4      0  \n",
            "5      1  \n",
            "6      0  \n",
            "7      0  \n",
            "8      1  \n",
            "9      0  \n",
            "afterwards the dataframe is: \n",
            "    Contract_MonthlyCharges  Contract_Tenure  TotalCharges  Churn  \\\n",
            "0                       40               12           480      0   \n",
            "1                       80               24          1920      1   \n",
            "2                       60               36          2160      0   \n",
            "3                      100                2           200      1   \n",
            "4                       70               48          3360      0   \n",
            "5                       90                6           540      1   \n",
            "6                       55               24          1320      0   \n",
            "7                       75               12           900      0   \n",
            "8                       85               18          1530      1   \n",
            "9                       65               36          2340      0   \n",
            "\n",
            "   Internet_DSL  Internet_Fiber optic  Internet_No internet  \n",
            "0             1                     0                     0  \n",
            "1             0                     1                     0  \n",
            "2             1                     0                     0  \n",
            "3             0                     0                     1  \n",
            "4             0                     1                     0  \n",
            "5             0                     0                     1  \n",
            "6             1                     0                     0  \n",
            "7             1                     0                     0  \n",
            "8             0                     1                     0  \n",
            "9             1                     0                     0  \n"
          ]
        }
      ]
    },
    {
      "cell_type": "code",
      "source": [],
      "metadata": {
        "id": "v0i9oazBXDIk"
      },
      "execution_count": null,
      "outputs": []
    }
  ]
}